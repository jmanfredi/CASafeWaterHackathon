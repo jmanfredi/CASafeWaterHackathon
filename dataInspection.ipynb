{
 "cells": [
  {
   "cell_type": "markdown",
   "metadata": {},
   "source": [
    "#### Here is Forrest's and Leonard's end of the code. So far it converts the spreadsheets into a single dataframe and creates a dictionary that tags each column with keys that identify string and/or number quality. These tags include capitalization errors, consistency in nonalphanumeric notation, misspellings, variance in numerical digits, etc.\n",
    "\n",
    "-----\n",
    "suggestion is that these tags be used to model some sort of data cleaning algorithm to make the dataset better. Another option is to possibly make a histogram of tags (a qualitative index will need to be made as some tags return arrays and others numbers) to visualize data quality."
   ]
  },
  {
   "cell_type": "code",
   "execution_count": 1,
   "metadata": {},
   "outputs": [],
   "source": [
    "# The purpose of this code is to merge all the spreadsheets into one dataframe by combining\n",
    "# them based on PWSID field. The goal is to make the data more consumable for analysis as \n",
    "# a whole."
   ]
  },
  {
   "cell_type": "code",
   "execution_count": 2,
   "metadata": {},
   "outputs": [],
   "source": [
    "#Import libraries\n",
    "import pandas as pd\n",
    "from enchant.checker import SpellChecker ## package 'pyenchant'\n",
    "import re"
   ]
  },
  {
   "cell_type": "code",
   "execution_count": 4,
   "metadata": {},
   "outputs": [],
   "source": [
    "#Import Data\n",
    "Data = pd.ExcelFile('./EAR_Datasets_1.xlsx')"
   ]
  },
  {
   "cell_type": "code",
   "execution_count": 5,
   "metadata": {},
   "outputs": [],
   "source": [
    "#New variable for each spreadsheet\n",
    "table1 = pd.read_excel(Data, \"Table1_Final\")\n",
    "table2 = pd.read_excel(Data, \"Table2_Final\")\n",
    "table3 = pd.read_excel(Data, \"Table3_Final\")\n",
    "table4 = pd.read_excel(Data, \"Table4_LWS\")\n",
    "table5 = pd.read_excel(Data, \"Table5_SWS\")\n",
    "\n",
    "#Organize into list, specify key for joining\n",
    "tables = [table1, table2, table3, table4, table5]\n",
    "key = \"PWSID\""
   ]
  },
  {
   "cell_type": "code",
   "execution_count": 6,
   "metadata": {},
   "outputs": [],
   "source": [
    "#This funtion merges each spreadsheet to the first sequential based on a given key.\n",
    "#In .merge(), kwarg 'how = outer' indicates all rows are kept regardless of matching PWSID.\n",
    "def outer_join(key, tables):\n",
    "    first_table = tables[0]\n",
    "    for i in range(len(tables)):\n",
    "        if i > 0:\n",
    "            first_table = first_table.merge(tables[i], on=key, how=\"outer\")\n",
    "    return first_table"
   ]
  },
  {
   "cell_type": "code",
   "execution_count": 7,
   "metadata": {},
   "outputs": [
    {
     "name": "stdout",
     "output_type": "stream",
     "text": [
      "Spreadsheet 0 shape = (6817, 87) \n",
      "\n",
      "Spreadsheet 1 shape = (6816, 103) \n",
      "\n",
      "Spreadsheet 2 shape = (6817, 92) \n",
      "\n",
      "Spreadsheet 3 shape = (759, 318) \n",
      "\n",
      "Spreadsheet 4 shape = (6059, 227) \n",
      "\n"
     ]
    }
   ],
   "source": [
    "#Print the shapes of the spreadsheets for comparison\n",
    "for i in range(len(tables)):\n",
    "    print(\"Spreadsheet %s shape =\" %i, tables[i].shape,'\\n')"
   ]
  },
  {
   "cell_type": "code",
   "execution_count": 8,
   "metadata": {},
   "outputs": [
    {
     "name": "stdout",
     "output_type": "stream",
     "text": [
      "Joined Spreadsheet shape = (6838, 823)\n"
     ]
    }
   ],
   "source": [
    "#Print the shape of the newly merged dataframe.\n",
    "j_tables = outer_join(key, tables)\n",
    "print(\"Joined Spreadsheet shape =\", j_tables.shape)"
   ]
  },
  {
   "cell_type": "code",
   "execution_count": 9,
   "metadata": {},
   "outputs": [],
   "source": [
    "# NOTES: Function works as expected. The number 6838 is concerning. There are 21 PWSIDs that\n",
    "# do not appear in at least one spreadsheet."
   ]
  },
  {
   "cell_type": "code",
   "execution_count": 10,
   "metadata": {},
   "outputs": [],
   "source": [
    "tables_df = pd.DataFrame(j_tables)"
   ]
  },
  {
   "cell_type": "code",
   "execution_count": 19,
   "metadata": {},
   "outputs": [],
   "source": [
    "def nonalpha(col):\n",
    "    nondict = [\"@\",\"!\",\"\\$\",\"\\(|\\)|-\",\"_\",\"\\\"\",\"\\'\",\"\\*\",\"&\",\"~+\"]\n",
    "    percarr = []\n",
    "    for n in nondict:\n",
    "        reg = re.compile(n)\n",
    "        nonalphaList = list(filter(reg.search,col))\n",
    "        percarr.append((1.0*len(nonalphaList))/len(col))\n",
    "    if np.max(percarr) > 0.01:\n",
    "        return \"{0:.2f}\".format(np.max(percarr))+\" \"+nondict[percarr.index(np.max(percarr))]\n",
    "\n",
    "def spellcheck(col):\n",
    "    chkr = SpellChecker(\"en_US\")\n",
    "    mispelledrows = []\n",
    "    for index, row in enumerate(col):\n",
    "        chkr.set_text(row)\n",
    "        errarr = []\n",
    "        for error in chkr:\n",
    "            errarr.append(error.word)\n",
    "        if len(errarr) != 0:\n",
    "            mispelledrows.append(index)\n",
    "    return mispelledrows\n",
    "\n",
    "def capital(col):\n",
    "    words = np.asarray(col)\n",
    "    nocaps = [word for word in words if word.islower()]\n",
    "    allcaps = [word for word in words if word.isupper()]\n",
    "    mixcaps = [word for word in words if not word.islower() and not word.isupper()]\n",
    "    caparr = [len(nocaps),len(allcaps),len(mixcaps)]\n",
    "    max_index = caparr.index(max(caparr))\n",
    "    caparr.remove(max(caparr))\n",
    "    \n",
    "    return [[\"No Caps\",\"Allcaps\",\"Mixed Caps\"][max_index],sum(caparr)]\n",
    "    "
   ]
  },
  {
   "cell_type": "code",
   "execution_count": 20,
   "metadata": {},
   "outputs": [],
   "source": [
    "import numpy as np\n",
    "\n",
    "def is_num(a):\n",
    "    if type(a) is int or type(a) is float:\n",
    "        return True\n",
    "    else:\n",
    "       return False\n",
    "\n",
    "def tagger(col):\n",
    "    tagdict = {}\n",
    "    cleancol = list(filter(None,col))\n",
    "    if any(isinstance(elem, str) for elem in cleancol):\n",
    "        strcol = list(map(str,cleancol))\n",
    "        tagdict[\"Capitalization, #OtherCaps\"] = capital(strcol)\n",
    "        tagdict[\"Nonalpha\"] = nonalpha(strcol)\n",
    "        tagdict[\"Misspelled Rows\"] = spellcheck(strcol)\n",
    "        if any(elem.startswith(\" \") for elem in strcol):\n",
    "            tagdict[\"Leading Space Rows\"] = np.where(list(map(lambda x : x.startswith(\" \"),strcol)))\n",
    "        if any(is_num(elem) for elem in cleancol):\n",
    "            tagdict[\"Num Rows among Strings\"] = (1.0*np.sum(list(map(lambda x : is_num(x),cleancol))))/len(cleancol)\n",
    "    else:\n",
    "        tagdict[\"Number Variance\"] = np.var(list(map(lambda x : len(str(x)),col)))\n",
    "        tagdict[\"Number Mean\"] = np.mean(list(map(lambda x : len(str(x)),col)))\n",
    "    return tagdict\n",
    "\n",
    "#Capitalization tag: What is the most common capitalization and how many rows have different caps?\n",
    "#Nonalpha tag: What is the most common nonalphanumeric character (@,parentheses,dashes,etc.) and what fraction of rows possess it?\n",
    "#Misspelled Rows tag: Which rows have misspelled words?\n",
    "#Lead Space Rows tag: Which rows have leading spaces?\n",
    "#Num Rows among Strings tag: Are there columns with cells that contain either numbers of strings? What is the ratio of number rows to string rows?\n",
    "#Number Variance: What is the digit variance of number columns?\n",
    "#Number mean: What is the digit mean of number columns?"
   ]
  },
  {
   "cell_type": "code",
   "execution_count": 21,
   "metadata": {
    "scrolled": true
   },
   "outputs": [
    {
     "name": "stderr",
     "output_type": "stream",
     "text": [
      "Exception ignored in: <bound method Dict.__del__ of <enchant.Dict object at 0x7e06cf0b7588>>\n",
      "Traceback (most recent call last):\n",
      "  File \"/home/lososian/anaconda3/lib/python3.6/site-packages/enchant/__init__.py\", line 576, in __del__\n",
      "    self._free()\n",
      "  File \"/home/lososian/anaconda3/lib/python3.6/site-packages/enchant/__init__.py\", line 638, in _free\n",
      "    self._broker._free_dict(self)\n",
      "  File \"/home/lososian/anaconda3/lib/python3.6/site-packages/enchant/__init__.py\", line 346, in _free_dict\n",
      "    self._free_dict_data(dict._this)\n",
      "  File \"/home/lososian/anaconda3/lib/python3.6/site-packages/enchant/__init__.py\", line 353, in _free_dict_data\n",
      "    _e.broker_free_dict(self._this,dict)\n",
      "KeyboardInterrupt: \n"
     ]
    },
    {
     "data": {
      "text/plain": [
       "PWSID                                 {'Capitalization, #OtherCaps': ['Allcaps', 0],...\n",
       "Water System Name                     {'Capitalization, #OtherCaps': ['Allcaps', 6],...\n",
       "Water System Classification           {'Capitalization, #OtherCaps': ['Mixed Caps', ...\n",
       "Water System Ownership                {'Capitalization, #OtherCaps': ['Mixed Caps', ...\n",
       "Physical location Address 1           {'Capitalization, #OtherCaps': ['Mixed Caps', ...\n",
       "Physical location Address 2           {'Capitalization, #OtherCaps': ['Mixed Caps', ...\n",
       "Physical location City                {'Capitalization, #OtherCaps': ['Allcaps', 685...\n",
       "Physical location Zip                 {'Number Variance': 0.4100889674128909, 'Numbe...\n",
       "Office Phone                          {'Capitalization, #OtherCaps': ['Mixed Caps', ...\n",
       "Website URL                           {'Capitalization, #OtherCaps': ['No Caps', 455...\n",
       "Reporter Name                         {'Capitalization, #OtherCaps': ['Mixed Caps', ...\n",
       "Reporter Title                        {'Capitalization, #OtherCaps': ['Mixed Caps', ...\n",
       "Reporter Business Phone               {'Capitalization, #OtherCaps': ['Mixed Caps', ...\n",
       "Reporter Email                        {'Capitalization, #OtherCaps': ['No Caps', 265...\n",
       "Population                            {'Capitalization, #OtherCaps': ['Mixed Caps', ...\n",
       "Population Estimation Method          {'Capitalization, #OtherCaps': ['Mixed Caps', ...\n",
       "Population Estimation Method Other    {'Capitalization, #OtherCaps': ['No Caps', 346...\n",
       "Population Seasonal Max               {'Capitalization, #OtherCaps': ['No Caps', 106...\n",
       "Season Begin MM                       {'Capitalization, #OtherCaps': ['No Caps', 84]...\n",
       "Season Begin DD                       {'Capitalization, #OtherCaps': ['No Caps', 84]...\n",
       "Season End MM                         {'Capitalization, #OtherCaps': ['No Caps', 84]...\n",
       "Season End DD                         {'Capitalization, #OtherCaps': ['No Caps', 84]...\n",
       "Population Res Begin Date MM          {'Capitalization, #OtherCaps': ['Mixed Caps', ...\n",
       "Population Res Begin Date DD          {'Capitalization, #OtherCaps': ['Mixed Caps', ...\n",
       "Population Res End Date MM            {'Capitalization, #OtherCaps': ['Mixed Caps', ...\n",
       "Population Res End Date DD            {'Capitalization, #OtherCaps': ['Mixed Caps', ...\n",
       "Population Trans                      {'Capitalization, #OtherCaps': ['Mixed Caps', ...\n",
       "Population Trans Begin Date MM        {'Capitalization, #OtherCaps': ['Mixed Caps', ...\n",
       "Population Trans Begin Date DD        {'Capitalization, #OtherCaps': ['Mixed Caps', ...\n",
       "Population Trans End Date MM          {'Capitalization, #OtherCaps': ['Mixed Caps', ...\n",
       "                                                            ...                        \n",
       "WD Nov A_y                            {'Capitalization, #OtherCaps': ['No Caps', 139...\n",
       "WD Nov OP_y                           {'Capitalization, #OtherCaps': ['No Caps', 128...\n",
       "WD Dec SF_y                           {'Capitalization, #OtherCaps': ['No Caps', 104...\n",
       "WD Dec MF_y                           {'Capitalization, #OtherCaps': ['No Caps', 288...\n",
       "WD Dec CI_y                           {'Capitalization, #OtherCaps': ['No Caps', 613...\n",
       "WD Dec I_y                            {'Capitalization, #OtherCaps': ['No Caps', 223...\n",
       "WD Dec LI_y                           {'Capitalization, #OtherCaps': ['No Caps', 218...\n",
       "WD Dec O_y                            {'Capitalization, #OtherCaps': ['No Caps', 204...\n",
       "WD Dec Total_y                        {'Capitalization, #OtherCaps': ['Mixed Caps', ...\n",
       "WD Dec A_y                            {'Capitalization, #OtherCaps': ['No Caps', 142...\n",
       "WD Dec OP_y                           {'Capitalization, #OtherCaps': ['No Caps', 125...\n",
       "WD Annual SF_y                        {'Capitalization, #OtherCaps': ['Mixed Caps', ...\n",
       "WD Annual MF_y                        {'Capitalization, #OtherCaps': ['No Caps', 300...\n",
       "WD Annual CI_y                        {'Capitalization, #OtherCaps': ['No Caps', 649...\n",
       "WD Annual I_y                         {'Capitalization, #OtherCaps': ['No Caps', 228...\n",
       "WD Annual LI_y                        {'Capitalization, #OtherCaps': ['No Caps', 260...\n",
       "WD Annual O_y                         {'Capitalization, #OtherCaps': ['No Caps', 223...\n",
       "WD Annual Total_y                     {'Capitalization, #OtherCaps': ['Mixed Caps', ...\n",
       "WD Annual A_y                         {'Capitalization, #OtherCaps': ['No Caps', 149...\n",
       "WD Annual OP_y                        {'Capitalization, #OtherCaps': ['No Caps', 138...\n",
       "WQ Nitrate Monitoring_y               {'Capitalization, #OtherCaps': ['Mixed Caps', ...\n",
       "WQ Bact SS Plan Date_y                {'Capitalization, #OtherCaps': ['Mixed Caps', ...\n",
       "CCR Distributed Date_y                {'Capitalization, #OtherCaps': ['Mixed Caps', ...\n",
       "Continuous Violation                  {'Capitalization, #OtherCaps': ['Mixed Caps', ...\n",
       "Violation Type                        {'Capitalization, #OtherCaps': ['No Caps', 763...\n",
       "Violation Notice Dates                {'Capitalization, #OtherCaps': ['No Caps', 620...\n",
       "Corrective Actions                    {'Capitalization, #OtherCaps': ['No Caps', 610...\n",
       "Bottled Water Provided                {'Capitalization, #OtherCaps': ['Mixed Caps', ...\n",
       "Bottled Water Provided Method         {'Capitalization, #OtherCaps': ['No Caps', 348...\n",
       "Compliance Schedule                   {'Capitalization, #OtherCaps': ['No Caps', 571...\n",
       "Length: 823, dtype: object"
      ]
     },
     "execution_count": 21,
     "metadata": {},
     "output_type": "execute_result"
    }
   ],
   "source": [
    "tables_df.apply(lambda x: tagger(x), axis = 0)"
   ]
  },
  {
   "cell_type": "markdown",
   "metadata": {},
   "source": []
  }
 ],
 "metadata": {
  "kernelspec": {
   "display_name": "Python 3",
   "language": "python",
   "name": "python3"
  },
  "language_info": {
   "codemirror_mode": {
    "name": "ipython",
    "version": 3
   },
   "file_extension": ".py",
   "mimetype": "text/x-python",
   "name": "python",
   "nbconvert_exporter": "python",
   "pygments_lexer": "ipython3",
   "version": "3.6.5"
  }
 },
 "nbformat": 4,
 "nbformat_minor": 2
}
